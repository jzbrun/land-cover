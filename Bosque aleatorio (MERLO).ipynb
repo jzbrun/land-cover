{
 "cells": [
  {
   "cell_type": "code",
   "execution_count": 20,
   "metadata": {},
   "outputs": [],
   "source": [
    "import matplotlib.pyplot as plt\n",
    "from mpl_toolkits.mplot3d import Axes3D\n",
    "import numpy as np\n",
    "import geopandas as gpd\n",
    "import rasterio\n",
    "from shapely.geometry import mapping\n",
    "import rasterio.mask\n",
    "from rasterio.mask import mask\n",
    "#from sklearn import datasets\n",
    "from mpl_toolkits.mplot3d import Axes3D\n",
    "from sklearn import datasets\n",
    "import seaborn as sns\n",
    "import pandas as pd\n",
    "from sklearn.model_selection import train_test_split\n",
    "from sklearn.ensemble import RandomForestClassifier\n",
    "from sklearn import metrics\n",
    "from sklearn.neighbors import KNeighborsClassifier # para usar un modelo de clasificación KNN\n",
    "from sklearn.tree import DecisionTreeClassifier\n",
    "# from sklearn.metrics import accuracy_score,classification_report,confusion_matrix\n",
    "from sklearn import tree\n",
    "# import graphviz\n"
   ]
  },
  {
   "cell_type": "markdown",
   "metadata": {},
   "source": []
  },
  {
   "cell_type": "code",
   "execution_count": 22,
   "metadata": {},
   "outputs": [],
   "source": [
    "#Levanto en X, Y los datos etiquetados, como antes\n",
    "#Datos del raster y del shp\n",
    "\n",
    "path_proc = '../data/proc/'\n",
    "path_out = '../data/out/'\n",
    "path_shp = '../data/raw_data/vector/'\n",
    "raster_fn = path_proc + 'LT05_L2SP_229082_19900620_20200916_02_T1_SR_STACK_MERGE_II_ESCALA_GENERAL_MASK_NO_DATA_0.tif'\n",
    "rois_shp = gpd.read_file(path_shp+'aoi_tucu_iii.geojson')\n",
    "\n",
    "#Leo los ROIS\n",
    "with rasterio.open(raster_fn) as src:\n",
    "    d=src.count #cantidad de atributos = cantidad de bandas en el raster\n",
    "\n",
    "nodata=-255 #elijo un valor raro para nodata\n",
    "\n",
    "clases=list(set(rois_shp['clase']))\n",
    "clases.sort() #numero las clases de los ROIs alfabéticamente\n",
    "clase_dict = {clase:i for i, clase in enumerate(clases)}\n",
    "\n",
    "#Preparo colección de atributos etiquetados. Comienza con 0 datos\n",
    "X = np.zeros([0,d],dtype = np.float32) #array con todos los atributos\n",
    "Y = np.zeros([0],dtype=int)            #array con sus etiquetas\n",
    "\n",
    "with rasterio.open(raster_fn) as src:\n",
    "    for index, row in rois_shp.iterrows():\n",
    "        geom_sh = row['geometry']\n",
    "        clase = row['clase']\n",
    "        geom_GJ = [mapping(geom_sh)]\n",
    "        clip, _transform = mask(src, geom_GJ, crop=True,nodata=nodata)\n",
    "        d,x,y = clip.shape\n",
    "        D = list(clip.reshape([d,x*y]).T)\n",
    "        D = [p for p in D if (not (p==nodata).prod())]\n",
    "        DX = np.array(D)        \n",
    "        DY = np.repeat(clase_dict[clase],len(D))\n",
    "        X = np.concatenate((X,DX))\n",
    "        Y = np.concatenate((Y,DY))"
   ]
  },
  {
   "cell_type": "code",
   "execution_count": 3,
   "metadata": {},
   "outputs": [],
   "source": [
    "#separo en train y test\n",
    "X_train, X_test, Y_train, Y_test = train_test_split(X, Y, test_size = 0.25)"
   ]
  },
  {
   "cell_type": "code",
   "execution_count": 4,
   "metadata": {},
   "outputs": [
    {
     "name": "stdout",
     "output_type": "stream",
     "text": [
      "StratifiedKFold(n_splits=5, random_state=None, shuffle=True)\n"
     ]
    }
   ],
   "source": [
    "n_splits = 5\n",
    "from sklearn.model_selection import StratifiedKFold\n",
    "skf = StratifiedKFold(n_splits=n_splits, shuffle=True)\n",
    "print(skf)"
   ]
  },
  {
   "cell_type": "code",
   "execution_count": 5,
   "metadata": {},
   "outputs": [
    {
     "name": "stdout",
     "output_type": "stream",
     "text": [
      "Fold 1:\n",
      " - arboles de profundidad 7\n",
      " - arboles de profundidad 8\n",
      " - arboles de profundidad 9\n",
      " - arboles de profundidad 10\n",
      "Fold 2:\n",
      " - arboles de profundidad 7\n",
      " - arboles de profundidad 8\n",
      " - arboles de profundidad 9\n",
      " - arboles de profundidad 10\n",
      "Fold 3:\n",
      " - arboles de profundidad 7\n",
      " - arboles de profundidad 8\n",
      " - arboles de profundidad 9\n",
      " - arboles de profundidad 10\n",
      "Fold 4:\n",
      " - arboles de profundidad 7\n",
      " - arboles de profundidad 8\n",
      " - arboles de profundidad 9\n",
      " - arboles de profundidad 10\n",
      "Fold 5:\n",
      " - arboles de profundidad 7\n",
      " - arboles de profundidad 8\n",
      " - arboles de profundidad 9\n",
      " - arboles de profundidad 10\n"
     ]
    }
   ],
   "source": [
    "valores_prof = [7,8,9,10]\n",
    "valores_estim = [100,120,150,180,200]\n",
    "\n",
    "resultados_test = np.zeros((n_splits, len(valores_prof), len(valores_estim)))\n",
    "resultados_train = np.zeros((n_splits, len(valores_prof), len(valores_estim)))\n",
    "\n",
    "split = 0\n",
    "for train_index, test_index in skf.split(X,Y):\n",
    "    print(f\"Fold {split + 1}:\")\n",
    "    for i,d in enumerate(valores_prof):\n",
    "        print(f\" - arboles de profundidad {d}\")\n",
    "        for j,n in enumerate(valores_estim):\n",
    "            X_train, X_test = X[train_index,:], X[test_index,:]\n",
    "            Y_train, Y_test = Y[train_index], Y[test_index]\n",
    "            model = RandomForestClassifier(n_estimators = n, max_depth = d)\n",
    "            model.fit(X_train, Y_train) \n",
    "            Y_pred = model.predict(X_test)\n",
    "            Y_pred_train = model.predict(X_train)\n",
    "            acc_test = metrics.accuracy_score(Y_test, Y_pred)\n",
    "            acc_train = metrics.accuracy_score(Y_train, Y_pred_train)\n",
    "            resultados_test[split, i, j] = acc_test\n",
    "            resultados_train[split, i, j] = acc_train\n",
    "    split += 1"
   ]
  },
  {
   "cell_type": "code",
   "execution_count": 6,
   "metadata": {},
   "outputs": [],
   "source": [
    "promedios_test = np.mean(resultados_test, axis = 0) "
   ]
  },
  {
   "cell_type": "code",
   "execution_count": 7,
   "metadata": {},
   "outputs": [
    {
     "data": {
      "text/plain": [
       "[<matplotlib.axis.XTick at 0x23169b89d60>,\n",
       " <matplotlib.axis.XTick at 0x23169b89d30>,\n",
       " <matplotlib.axis.XTick at 0x23169b893d0>,\n",
       " <matplotlib.axis.XTick at 0x23169b0a5b0>,\n",
       " <matplotlib.axis.XTick at 0x23169b0ad00>]"
      ]
     },
     "execution_count": 7,
     "metadata": {},
     "output_type": "execute_result"
    },
    {
     "data": {
      "image/png": "[encoded data removed]",
      "text/plain": [
       "<Figure size 640x480 with 1 Axes>"
      ]
     },
     "metadata": {},
     "output_type": "display_data"
    }
   ],
   "source": [
    "#plt.imshow(promedios_test)\n",
    "\n",
    "fig, ax = plt.subplots()\n",
    "im = ax.imshow(promedios_test)\n",
    "\n",
    "# Show all ticks and label them with the respective list entries\n",
    "ax.set_yticks(np.arange(len(valores_prof)), labels=[str(v) for v in valores_prof])\n",
    "ax.set_xticks(np.arange(len(valores_estim)))#, labels=valores_estim)"
   ]
  },
  {
   "cell_type": "code",
   "execution_count": 8,
   "metadata": {},
   "outputs": [
    {
     "name": "stdout",
     "output_type": "stream",
     "text": [
      "El mejor promedio fue obtenido para profundidad 10 y 180 arboles, con una exactitud de 0.948\n"
     ]
    }
   ],
   "source": [
    "ind = np.unravel_index(np.argmax(promedios_test, axis=None), promedios_test.shape)\n",
    "opt_d = valores_prof[ind[0]]\n",
    "opt_n = valores_estim[ind[1]]\n",
    "max_acc = promedios_test[ind]\n",
    "\n",
    "print(f\"El mejor promedio fue obtenido para profundidad {opt_d} y {opt_n} arboles, con una exactitud de {max_acc:.3f}\")"
   ]
  },
  {
   "cell_type": "code",
   "execution_count": 9,
   "metadata": {},
   "outputs": [],
   "source": [
    "from sklearn.metrics import confusion_matrix\n",
    "from sklearn.metrics import accuracy_score\n",
    "from sklearn.metrics import cohen_kappa_score as kappa"
   ]
  },
  {
   "cell_type": "code",
   "execution_count": 10,
   "metadata": {},
   "outputs": [
    {
     "name": "stdout",
     "output_type": "stream",
     "text": [
      "accuracy: 0.95\n",
      "kappa index: 0.92\n"
     ]
    }
   ],
   "source": [
    "acc = accuracy_score(Y_test, Y_pred)\n",
    "print(f'accuracy: {acc:.2f}')\n",
    "\n",
    "k = kappa(Y_test, Y_pred)\n",
    "print(f'kappa index: {k:.2f}')"
   ]
  },
  {
   "cell_type": "code",
   "execution_count": 11,
   "metadata": {},
   "outputs": [],
   "source": [
    "#Entrenemos un arbol de profundidad 11\n",
    "clf = RandomForestClassifier(n_estimators = 180, max_depth = 10)\n",
    "clf = clf.fit(X, Y)"
   ]
  },
  {
   "cell_type": "code",
   "execution_count": 12,
   "metadata": {},
   "outputs": [
    {
     "name": "stdout",
     "output_type": "stream",
     "text": [
      "Accuracy: 0.948818523272952\n"
     ]
    }
   ],
   "source": [
    "#lo evaluo\n",
    "Y_pred = clf.predict(X_test)\n",
    "print(\"Accuracy:\", metrics.accuracy_score(Y_test, Y_pred))"
   ]
  },
  {
   "cell_type": "code",
   "execution_count": 13,
   "metadata": {
    "scrolled": true
   },
   "outputs": [
    {
     "name": "stdout",
     "output_type": "stream",
     "text": [
      "Matriz de confusión:\n",
      " [[  989   265    12   153   529    10]\n",
      " [   83 11284     0    10   350     0]\n",
      " [    7     4 51397   358   959     6]\n",
      " [  125    27  1143 30773  1048    13]\n",
      " [   61   167  2658   431 64136     0]\n",
      " [    3     0    20   101    69  1073]]\n"
     ]
    }
   ],
   "source": [
    "M=confusion_matrix(Y_test, Y_pred)\n",
    "print('Matriz de confusión:\\n',M)"
   ]
  },
  {
   "cell_type": "code",
   "execution_count": 23,
   "metadata": {},
   "outputs": [
    {
     "data": {
      "text/plain": [
       "Text(95.72222222222221, 0.5, 'Thruth')"
      ]
     },
     "execution_count": 23,
     "metadata": {},
     "output_type": "execute_result"
    },
    {
     "data": {
      "image/png": "[encoded data removed]",
      "text/plain": [
       "<Figure size 1000x1000 with 2 Axes>"
      ]
     },
     "metadata": {},
     "output_type": "display_data"
    }
   ],
   "source": [
    "import seaborn as sn\n",
    "plt.figure(figsize=(10,10))\n",
    "sn.heatmap(M, annot=True)\n",
    "plt.xlabel ('Predicted')\n",
    "plt.ylabel ('Thruth')"
   ]
  },
  {
   "cell_type": "code",
   "execution_count": 15,
   "metadata": {},
   "outputs": [],
   "source": [
    "#Leo la imágen completa\n",
    "raster_fn = path_out + 'TUCUMAN_MOSAIC_CLIP_COMPRESS_MASK.tif'\n",
    "with rasterio.open(raster_fn) as src:\n",
    "    img = src.read()\n",
    "    crs = src.crs\n",
    "    gt = src.transform\n",
    "img.shape\n",
    "d,x,y = img.shape\n",
    "\n",
    "#y uso el modelo para clasificar toda la imagen\n",
    "Y_pred = clf.predict(img.reshape([d,x*y]).T)"
   ]
  },
  {
   "cell_type": "code",
   "execution_count": 16,
   "metadata": {},
   "outputs": [],
   "source": [
    "#plt.figure(figsize=(26,20),dpi=300)\n",
    "#plt.imshow(Y_pred.reshape([x,y]),cmap='gnuplot2')\n",
    "#plt.show()"
   ]
  },
  {
   "cell_type": "code",
   "execution_count": 17,
   "metadata": {},
   "outputs": [
    {
     "data": {
      "text/plain": [
       "array([0, 1, 2, 3, 4, 5])"
      ]
     },
     "execution_count": 17,
     "metadata": {},
     "output_type": "execute_result"
    }
   ],
   "source": [
    "np.unique(Y_pred)"
   ]
  },
  {
   "cell_type": "code",
   "execution_count": 18,
   "metadata": {},
   "outputs": [],
   "source": [
    "def guardar_GTiff(fn, crs, transform, mat, meta=None, nodata=None, bandnames=[]):\n",
    "    if len(mat.shape)==2:\n",
    "        count=1\n",
    "    else:\n",
    "        count=mat.shape[0]\n",
    "\n",
    "    if not meta:\n",
    "        meta = {}\n",
    "\n",
    "    meta['driver'] = 'GTiff'\n",
    "    meta['height'] = mat.shape[-2]\n",
    "    meta['width'] = mat.shape[-1]\n",
    "    meta['count'] = count\n",
    "    meta['crs'] = crs\n",
    "    meta['transform'] = transform\n",
    "\n",
    "    if 'dtype' not in meta: #if no datatype is specified, use float32\n",
    "        meta['dtype'] = np.float32\n",
    "    \n",
    "\n",
    "    if nodata:\n",
    "        meta['nodata'] = nodata\n",
    "\n",
    "    with rasterio.open(fn, 'w', **meta) as dst:\n",
    "        if count==1:\n",
    "            dst.write(mat.astype(np.float32), 1)\n",
    "            if bandnames:\n",
    "                dst.set_band_description(1, bandnames[0])\n",
    "        else:\n",
    "            for b in range(count):\n",
    "                dst.write(mat[b].astype(np.float32), b+1)\n",
    "            for b,bandname in enumerate(bandnames):\n",
    "                dst.set_band_description(b+1, bandname)\n"
   ]
  },
  {
   "cell_type": "code",
   "execution_count": 19,
   "metadata": {},
   "outputs": [],
   "source": [
    "#Guardo un resultado\n",
    "class_img = Y_pred.reshape([x,y])\n",
    "guardar_GTiff(path_out + 'Class_IMG_CLF_10_180.tif',crs,gt,class_img)"
   ]
  },
  {
   "cell_type": "code",
   "execution_count": 24,
   "metadata": {},
   "outputs": [
    {
     "data": {
      "text/html": [
       "<div>\n",
       "<style scoped>\n",
       "    .dataframe tbody tr th:only-of-type {\n",
       "        vertical-align: middle;\n",
       "    }\n",
       "\n",
       "    .dataframe tbody tr th {\n",
       "        vertical-align: top;\n",
       "    }\n",
       "\n",
       "    .dataframe thead th {\n",
       "        text-align: right;\n",
       "    }\n",
       "</style>\n",
       "<table border=\"1\" class=\"dataframe\">\n",
       "  <thead>\n",
       "    <tr style=\"text-align: right;\">\n",
       "      <th></th>\n",
       "      <th>clase</th>\n",
       "      <th>id</th>\n",
       "      <th>area</th>\n",
       "      <th>tipo</th>\n",
       "      <th>geometry</th>\n",
       "    </tr>\n",
       "  </thead>\n",
       "  <tbody>\n",
       "    <tr>\n",
       "      <th>0</th>\n",
       "      <td>Arbustal</td>\n",
       "      <td>1</td>\n",
       "      <td>28373.067</td>\n",
       "      <td>5</td>\n",
       "      <td>POLYGON ((273891.330 7005477.165, 274009.619 7...</td>\n",
       "    </tr>\n",
       "    <tr>\n",
       "      <th>1</th>\n",
       "      <td>Arbustal</td>\n",
       "      <td>2</td>\n",
       "      <td>102358.057</td>\n",
       "      <td>5</td>\n",
       "      <td>POLYGON ((258976.548 6942488.894, 258947.832 6...</td>\n",
       "    </tr>\n",
       "    <tr>\n",
       "      <th>2</th>\n",
       "      <td>Bosque cerrado con estrato arboreo</td>\n",
       "      <td>3</td>\n",
       "      <td>49642.257</td>\n",
       "      <td>0</td>\n",
       "      <td>POLYGON ((261707.196 7020200.890, 261701.911 7...</td>\n",
       "    </tr>\n",
       "    <tr>\n",
       "      <th>3</th>\n",
       "      <td>Bosque cerrado con estrato arboreo</td>\n",
       "      <td>4</td>\n",
       "      <td>36795.855</td>\n",
       "      <td>0</td>\n",
       "      <td>POLYGON ((261080.403 7019284.145, 261076.198 7...</td>\n",
       "    </tr>\n",
       "    <tr>\n",
       "      <th>4</th>\n",
       "      <td>Bosque cerrado con estrato arboreo</td>\n",
       "      <td>5</td>\n",
       "      <td>140002.999</td>\n",
       "      <td>0</td>\n",
       "      <td>POLYGON ((262583.308 7022141.941, 262578.267 7...</td>\n",
       "    </tr>\n",
       "    <tr>\n",
       "      <th>5</th>\n",
       "      <td>Bosque cerrado con estrato arboreo</td>\n",
       "      <td>6</td>\n",
       "      <td>84719.620</td>\n",
       "      <td>0</td>\n",
       "      <td>POLYGON ((263361.206 7020959.585, 263354.122 7...</td>\n",
       "    </tr>\n",
       "    <tr>\n",
       "      <th>6</th>\n",
       "      <td>Bosque cerrado con estrato arboreo</td>\n",
       "      <td>7</td>\n",
       "      <td>57340.206</td>\n",
       "      <td>0</td>\n",
       "      <td>POLYGON ((261105.429 6942911.557, 260993.737 6...</td>\n",
       "    </tr>\n",
       "    <tr>\n",
       "      <th>7</th>\n",
       "      <td>Arbustal</td>\n",
       "      <td>8</td>\n",
       "      <td>13724.961</td>\n",
       "      <td>5</td>\n",
       "      <td>POLYGON ((261218.942 6942632.327, 261192.840 6...</td>\n",
       "    </tr>\n",
       "    <tr>\n",
       "      <th>8</th>\n",
       "      <td>Arbustal</td>\n",
       "      <td>9</td>\n",
       "      <td>105196.266</td>\n",
       "      <td>5</td>\n",
       "      <td>POLYGON ((259251.585 6942693.029, 259161.139 6...</td>\n",
       "    </tr>\n",
       "    <tr>\n",
       "      <th>9</th>\n",
       "      <td>Arbustal</td>\n",
       "      <td>10</td>\n",
       "      <td>47526.234</td>\n",
       "      <td>5</td>\n",
       "      <td>POLYGON ((259048.385 6942770.424, 259228.670 6...</td>\n",
       "    </tr>\n",
       "  </tbody>\n",
       "</table>\n",
       "</div>"
      ],
      "text/plain": [
       "                                clase  id        area  tipo  \\\n",
       "0                            Arbustal   1   28373.067     5   \n",
       "1                            Arbustal   2  102358.057     5   \n",
       "2  Bosque cerrado con estrato arboreo   3   49642.257     0   \n",
       "3  Bosque cerrado con estrato arboreo   4   36795.855     0   \n",
       "4  Bosque cerrado con estrato arboreo   5  140002.999     0   \n",
       "5  Bosque cerrado con estrato arboreo   6   84719.620     0   \n",
       "6  Bosque cerrado con estrato arboreo   7   57340.206     0   \n",
       "7                            Arbustal   8   13724.961     5   \n",
       "8                            Arbustal   9  105196.266     5   \n",
       "9                            Arbustal  10   47526.234     5   \n",
       "\n",
       "                                            geometry  \n",
       "0  POLYGON ((273891.330 7005477.165, 274009.619 7...  \n",
       "1  POLYGON ((258976.548 6942488.894, 258947.832 6...  \n",
       "2  POLYGON ((261707.196 7020200.890, 261701.911 7...  \n",
       "3  POLYGON ((261080.403 7019284.145, 261076.198 7...  \n",
       "4  POLYGON ((262583.308 7022141.941, 262578.267 7...  \n",
       "5  POLYGON ((263361.206 7020959.585, 263354.122 7...  \n",
       "6  POLYGON ((261105.429 6942911.557, 260993.737 6...  \n",
       "7  POLYGON ((261218.942 6942632.327, 261192.840 6...  \n",
       "8  POLYGON ((259251.585 6942693.029, 259161.139 6...  \n",
       "9  POLYGON ((259048.385 6942770.424, 259228.670 6...  "
      ]
     },
     "execution_count": 24,
     "metadata": {},
     "output_type": "execute_result"
    }
   ],
   "source": [
    "rois_shp = gpd.read_file(path_shp+'aoi_tucu_iii.geojson')\n",
    "rois_shp.head(10)"
   ]
  },
  {
   "cell_type": "code",
   "execution_count": null,
   "metadata": {},
   "outputs": [],
   "source": []
  }
 ],
 "metadata": {
  "kernelspec": {
   "display_name": "Python 3 (ipykernel)",
   "language": "python",
   "name": "python3"
  },
  "language_info": {
   "codemirror_mode": {
    "name": "ipython",
    "version": 3
   },
   "file_extension": ".py",
   "mimetype": "text/x-python",
   "name": "python",
   "nbconvert_exporter": "python",
   "pygments_lexer": "ipython3",
   "version": "3.9.13"
  }
 },
 "nbformat": 4,
 "nbformat_minor": 4
}
